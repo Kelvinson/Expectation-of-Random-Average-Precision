{
 "cells": [
  {
   "cell_type": "code",
   "execution_count": null,
   "metadata": {},
   "outputs": [],
   "source": [
    "# https://docs.scipy.org/doc/scipy/reference/generated/scipy.stats.hypergeom.html\n",
    "# http://stat.ethz.ch/R-manual/R-devel/library/stats/html/Hypergeometric.html\n",
    "# Statistical Application Development with R and Python, Pg27\n",
    "# Bestgen, Yves. \"Exact expected average precision of the random baseline for system evaluation.\" The Prague Bulletin of Mathematical Linguistics 103.1 (2015): 131-138."
   ]
  },
  {
   "cell_type": "code",
   "execution_count": 36,
   "metadata": {},
   "outputs": [
    {
     "name": "stdout",
     "output_type": "stream",
     "text": [
      "[0.34  0.397 0.198 0.055 0.009 0.001 0.    0.    0.    0.    0.    0.   ]\n",
      "\n"
     ]
    }
   ],
   "source": [
    "from scipy.stats import hypergeom\n",
    "import numpy as np\n",
    "N = 200; M  = 20 \n",
    "n = 10\n",
    "k = range(12)\n",
    "print(np.round(hypergeom.pmf(k, N, M, n), 3))\n",
    "print()"
   ]
  },
  {
   "cell_type": "code",
   "execution_count": 34,
   "metadata": {},
   "outputs": [],
   "source": [
    "\n",
    "def RandomAPExact(N=0, R=0):\n",
    "    ap = 0\n",
    "    for i in range(1, R+1):\n",
    "        for n in range(i, N-R+i+1):\n",
    "#             print(np.round(hypergeom.pmf(i, N, N-R, n), 3))\n",
    "            ap += hypergeom.pmf(i, N, R, n) * (i/n) * (i/n)\n",
    "    ap = ap / R\n",
    "    return ap"
   ]
  },
  {
   "cell_type": "code",
   "execution_count": 35,
   "metadata": {},
   "outputs": [
    {
     "data": {
      "text/plain": [
       "0.5285978835978833"
      ]
     },
     "execution_count": 35,
     "metadata": {},
     "output_type": "execute_result"
    }
   ],
   "source": [
    "RandomAPExact(10, 4)"
   ]
  },
  {
   "cell_type": "code",
   "execution_count": null,
   "metadata": {},
   "outputs": [],
   "source": []
  },
  {
   "cell_type": "code",
   "execution_count": null,
   "metadata": {},
   "outputs": [],
   "source": []
  }
 ],
 "metadata": {
  "kernelspec": {
   "display_name": "Python 3",
   "language": "python",
   "name": "python3"
  },
  "language_info": {
   "codemirror_mode": {
    "name": "ipython",
    "version": 3
   },
   "file_extension": ".py",
   "mimetype": "text/x-python",
   "name": "python",
   "nbconvert_exporter": "python",
   "pygments_lexer": "ipython3",
   "version": "3.6.5"
  }
 },
 "nbformat": 4,
 "nbformat_minor": 2
}
